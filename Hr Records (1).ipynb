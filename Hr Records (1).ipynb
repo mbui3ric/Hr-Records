{
 "cells": [
  {
   "cell_type": "code",
   "execution_count": 82,
   "id": "b923015e-a26b-4b8b-903a-1615b1804ee4",
   "metadata": {},
   "outputs": [
    {
     "data": {
      "text/html": [
       "<div>\n",
       "<style scoped>\n",
       "    .dataframe tbody tr th:only-of-type {\n",
       "        vertical-align: middle;\n",
       "    }\n",
       "\n",
       "    .dataframe tbody tr th {\n",
       "        vertical-align: top;\n",
       "    }\n",
       "\n",
       "    .dataframe thead th {\n",
       "        text-align: right;\n",
       "    }\n",
       "</style>\n",
       "<table border=\"1\" class=\"dataframe\">\n",
       "  <thead>\n",
       "    <tr style=\"text-align: right;\">\n",
       "      <th></th>\n",
       "      <th>E_id</th>\n",
       "      <th>Name</th>\n",
       "      <th>Age</th>\n",
       "      <th>Address</th>\n",
       "      <th>Telephone</th>\n",
       "      <th>Salary</th>\n",
       "      <th>Department</th>\n",
       "      <th>Hire Date</th>\n",
       "    </tr>\n",
       "  </thead>\n",
       "  <tbody>\n",
       "    <tr>\n",
       "      <th>0</th>\n",
       "      <td>11</td>\n",
       "      <td>Aleya</td>\n",
       "      <td>46</td>\n",
       "      <td>Cairo</td>\n",
       "      <td>4218483</td>\n",
       "      <td>3000</td>\n",
       "      <td>Account</td>\n",
       "      <td>24/02/2003</td>\n",
       "    </tr>\n",
       "    <tr>\n",
       "      <th>1</th>\n",
       "      <td>9</td>\n",
       "      <td>Hassan</td>\n",
       "      <td>25</td>\n",
       "      <td>Cairo</td>\n",
       "      <td>3578283</td>\n",
       "      <td>2000</td>\n",
       "      <td>Sales</td>\n",
       "      <td>21/01/2006</td>\n",
       "    </tr>\n",
       "    <tr>\n",
       "      <th>2</th>\n",
       "      <td>15</td>\n",
       "      <td>Ramy</td>\n",
       "      <td>57</td>\n",
       "      <td>Alex</td>\n",
       "      <td>3674313</td>\n",
       "      <td>5000</td>\n",
       "      <td>Computer</td>\n",
       "      <td>21/03/2000</td>\n",
       "    </tr>\n",
       "    <tr>\n",
       "      <th>3</th>\n",
       "      <td>18</td>\n",
       "      <td>Ola</td>\n",
       "      <td>28</td>\n",
       "      <td>Milan</td>\n",
       "      <td>4186473</td>\n",
       "      <td>5000</td>\n",
       "      <td>Sales</td>\n",
       "      <td>04/02/2007</td>\n",
       "    </tr>\n",
       "    <tr>\n",
       "      <th>4</th>\n",
       "      <td>22</td>\n",
       "      <td>Zeiad</td>\n",
       "      <td>29</td>\n",
       "      <td>Milan</td>\n",
       "      <td>3642303</td>\n",
       "      <td>2000</td>\n",
       "      <td>Sales</td>\n",
       "      <td>01/03/1998</td>\n",
       "    </tr>\n",
       "    <tr>\n",
       "      <th>5</th>\n",
       "      <td>12</td>\n",
       "      <td>Salwa</td>\n",
       "      <td>34</td>\n",
       "      <td>Alexandria</td>\n",
       "      <td>4090443</td>\n",
       "      <td>4000</td>\n",
       "      <td>Computer</td>\n",
       "      <td>06/12/2005</td>\n",
       "    </tr>\n",
       "    <tr>\n",
       "      <th>6</th>\n",
       "      <td>24</td>\n",
       "      <td>Ali</td>\n",
       "      <td>24</td>\n",
       "      <td>Giza</td>\n",
       "      <td>4154463</td>\n",
       "      <td>1000</td>\n",
       "      <td>Sales</td>\n",
       "      <td>15/01/1991</td>\n",
       "    </tr>\n",
       "    <tr>\n",
       "      <th>7</th>\n",
       "      <td>25</td>\n",
       "      <td>Tahany</td>\n",
       "      <td>39</td>\n",
       "      <td>Alex</td>\n",
       "      <td>3546273</td>\n",
       "      <td>3000</td>\n",
       "      <td>Sales</td>\n",
       "      <td>01/01/2000</td>\n",
       "    </tr>\n",
       "    <tr>\n",
       "      <th>8</th>\n",
       "      <td>27</td>\n",
       "      <td>Yousef</td>\n",
       "      <td>46</td>\n",
       "      <td>Alixandria</td>\n",
       "      <td>3706323</td>\n",
       "      <td>7000</td>\n",
       "      <td>Computer</td>\n",
       "      <td>10/04/2003</td>\n",
       "    </tr>\n",
       "    <tr>\n",
       "      <th>9</th>\n",
       "      <td>29</td>\n",
       "      <td>Khaled</td>\n",
       "      <td>29</td>\n",
       "      <td>Alex</td>\n",
       "      <td>3770343</td>\n",
       "      <td>3000</td>\n",
       "      <td>Account</td>\n",
       "      <td>20/05/2001</td>\n",
       "    </tr>\n",
       "    <tr>\n",
       "      <th>10</th>\n",
       "      <td>35</td>\n",
       "      <td>Mahmoud</td>\n",
       "      <td>57</td>\n",
       "      <td>Giza</td>\n",
       "      <td>3610293</td>\n",
       "      <td>4000</td>\n",
       "      <td>Sales</td>\n",
       "      <td>10/02/1999</td>\n",
       "    </tr>\n",
       "    <tr>\n",
       "      <th>11</th>\n",
       "      <td>47</td>\n",
       "      <td>Talaat</td>\n",
       "      <td>48</td>\n",
       "      <td>Giza</td>\n",
       "      <td>3866373</td>\n",
       "      <td>3000</td>\n",
       "      <td>Account</td>\n",
       "      <td>19/07/2001</td>\n",
       "    </tr>\n",
       "    <tr>\n",
       "      <th>12</th>\n",
       "      <td>48</td>\n",
       "      <td>Wagdy</td>\n",
       "      <td>24</td>\n",
       "      <td>Cairo</td>\n",
       "      <td>4058433</td>\n",
       "      <td>5000</td>\n",
       "      <td>Sales</td>\n",
       "      <td>16/11/2007</td>\n",
       "    </tr>\n",
       "    <tr>\n",
       "      <th>13</th>\n",
       "      <td>54</td>\n",
       "      <td>Samy</td>\n",
       "      <td>55</td>\n",
       "      <td>Giza</td>\n",
       "      <td>3738333</td>\n",
       "      <td>1000</td>\n",
       "      <td>Account</td>\n",
       "      <td>30/04/2004</td>\n",
       "    </tr>\n",
       "    <tr>\n",
       "      <th>14</th>\n",
       "      <td>55</td>\n",
       "      <td>Samah</td>\n",
       "      <td>38</td>\n",
       "      <td>milan</td>\n",
       "      <td>4026423</td>\n",
       "      <td>1000</td>\n",
       "      <td>Sales</td>\n",
       "      <td>27/10/2001</td>\n",
       "    </tr>\n",
       "    <tr>\n",
       "      <th>15</th>\n",
       "      <td>57</td>\n",
       "      <td>Rawan</td>\n",
       "      <td>35</td>\n",
       "      <td>Alex</td>\n",
       "      <td>3994413</td>\n",
       "      <td>2000</td>\n",
       "      <td>Sales</td>\n",
       "      <td>07/10/2002</td>\n",
       "    </tr>\n",
       "    <tr>\n",
       "      <th>16</th>\n",
       "      <td>58</td>\n",
       "      <td>Neveen</td>\n",
       "      <td>43</td>\n",
       "      <td>Alex</td>\n",
       "      <td>3834363</td>\n",
       "      <td>4000</td>\n",
       "      <td>Computer</td>\n",
       "      <td>29/06/2003</td>\n",
       "    </tr>\n",
       "    <tr>\n",
       "      <th>17</th>\n",
       "      <td>62</td>\n",
       "      <td>Amr</td>\n",
       "      <td>44</td>\n",
       "      <td>Cairo</td>\n",
       "      <td>4122453</td>\n",
       "      <td>2000</td>\n",
       "      <td>Account</td>\n",
       "      <td>26/12/1995</td>\n",
       "    </tr>\n",
       "    <tr>\n",
       "      <th>18</th>\n",
       "      <td>65</td>\n",
       "      <td>Hala</td>\n",
       "      <td>53</td>\n",
       "      <td>Alex</td>\n",
       "      <td>3802353</td>\n",
       "      <td>2000</td>\n",
       "      <td>Account</td>\n",
       "      <td>09/06/1990</td>\n",
       "    </tr>\n",
       "    <tr>\n",
       "      <th>19</th>\n",
       "      <td>61</td>\n",
       "      <td>Yasser</td>\n",
       "      <td>37</td>\n",
       "      <td>Cairo</td>\n",
       "      <td>3962403</td>\n",
       "      <td>3000</td>\n",
       "      <td>Computer</td>\n",
       "      <td>17/09/2006</td>\n",
       "    </tr>\n",
       "    <tr>\n",
       "      <th>20</th>\n",
       "      <td>71</td>\n",
       "      <td>Radwa</td>\n",
       "      <td>48</td>\n",
       "      <td>Giza</td>\n",
       "      <td>3898383</td>\n",
       "      <td>1000</td>\n",
       "      <td>Account</td>\n",
       "      <td>08/08/2005</td>\n",
       "    </tr>\n",
       "    <tr>\n",
       "      <th>21</th>\n",
       "      <td>79</td>\n",
       "      <td>Maged</td>\n",
       "      <td>33</td>\n",
       "      <td>Cairo</td>\n",
       "      <td>3930393</td>\n",
       "      <td>6000</td>\n",
       "      <td>Computer</td>\n",
       "      <td>28/08/1998</td>\n",
       "    </tr>\n",
       "    <tr>\n",
       "      <th>22</th>\n",
       "      <td>90</td>\n",
       "      <td>Ahmed</td>\n",
       "      <td>28</td>\n",
       "      <td>Cairo</td>\n",
       "      <td>4250493</td>\n",
       "      <td>4000</td>\n",
       "      <td>Computer</td>\n",
       "      <td>16/03/1990</td>\n",
       "    </tr>\n",
       "    <tr>\n",
       "      <th>23</th>\n",
       "      <td>94</td>\n",
       "      <td>Dina</td>\n",
       "      <td>55</td>\n",
       "      <td>Cairo</td>\n",
       "      <td>4282503</td>\n",
       "      <td>2000</td>\n",
       "      <td>Computer</td>\n",
       "      <td>05/04/1999</td>\n",
       "    </tr>\n",
       "  </tbody>\n",
       "</table>\n",
       "</div>"
      ],
      "text/plain": [
       "    E_id    Name   Age     Address  Telephone  Salary Department   Hire Date\n",
       "0     11    Aleya   46       Cairo    4218483    3000    Account  24/02/2003\n",
       "1      9   Hassan   25       Cairo    3578283    2000      Sales  21/01/2006\n",
       "2     15     Ramy   57        Alex    3674313    5000   Computer  21/03/2000\n",
       "3     18      Ola   28       Milan    4186473    5000      Sales  04/02/2007\n",
       "4     22    Zeiad   29       Milan    3642303    2000      Sales  01/03/1998\n",
       "5     12    Salwa   34  Alexandria    4090443    4000   Computer  06/12/2005\n",
       "6     24      Ali   24        Giza    4154463    1000      Sales  15/01/1991\n",
       "7     25   Tahany   39        Alex    3546273    3000      Sales  01/01/2000\n",
       "8     27   Yousef   46  Alixandria    3706323    7000   Computer  10/04/2003\n",
       "9     29   Khaled   29        Alex    3770343    3000    Account  20/05/2001\n",
       "10    35  Mahmoud   57        Giza    3610293    4000      Sales  10/02/1999\n",
       "11    47   Talaat   48        Giza    3866373    3000    Account  19/07/2001\n",
       "12    48    Wagdy   24       Cairo    4058433    5000      Sales  16/11/2007\n",
       "13    54     Samy   55        Giza    3738333    1000    Account  30/04/2004\n",
       "14    55    Samah   38       milan    4026423    1000      Sales  27/10/2001\n",
       "15    57    Rawan   35        Alex    3994413    2000      Sales  07/10/2002\n",
       "16    58   Neveen   43        Alex    3834363    4000   Computer  29/06/2003\n",
       "17    62      Amr   44       Cairo    4122453    2000    Account  26/12/1995\n",
       "18    65     Hala   53        Alex    3802353    2000    Account  09/06/1990\n",
       "19    61   Yasser   37       Cairo    3962403    3000   Computer  17/09/2006\n",
       "20    71    Radwa   48        Giza    3898383    1000    Account  08/08/2005\n",
       "21    79    Maged   33       Cairo    3930393    6000   Computer  28/08/1998\n",
       "22    90    Ahmed   28       Cairo    4250493    4000   Computer  16/03/1990\n",
       "23    94     Dina   55       Cairo    4282503    2000   Computer  05/04/1999"
      ]
     },
     "execution_count": 82,
     "metadata": {},
     "output_type": "execute_result"
    }
   ],
   "source": [
    "import pandas as pd\n",
    "import numpy as np\n",
    "import matplotlib.pyplot as plt\n",
    "import seaborn as sns\n",
    "import datetime\n",
    "import warnings\n",
    "warnings.filterwarnings(\"ignore\")\n",
    "%matplotlib inline\n",
    "sns.set()\n",
    "Hr_records = pd.read_csv(r\"C:\\Users\\eric\\Desktop\\data set\\Book1.csv\")\n",
    "Hr_records"
   ]
  },
  {
   "cell_type": "code",
   "execution_count": 3,
   "id": "e9f4c5c4-892c-4a8a-a86e-d060f04382fd",
   "metadata": {},
   "outputs": [
    {
     "data": {
      "text/html": [
       "<div>\n",
       "<style scoped>\n",
       "    .dataframe tbody tr th:only-of-type {\n",
       "        vertical-align: middle;\n",
       "    }\n",
       "\n",
       "    .dataframe tbody tr th {\n",
       "        vertical-align: top;\n",
       "    }\n",
       "\n",
       "    .dataframe thead th {\n",
       "        text-align: right;\n",
       "    }\n",
       "</style>\n",
       "<table border=\"1\" class=\"dataframe\">\n",
       "  <thead>\n",
       "    <tr style=\"text-align: right;\">\n",
       "      <th></th>\n",
       "      <th>E_id</th>\n",
       "      <th>Name</th>\n",
       "      <th>Age</th>\n",
       "      <th>Address</th>\n",
       "      <th>Telephone</th>\n",
       "      <th>Salary</th>\n",
       "      <th>Department</th>\n",
       "      <th>Hire Date</th>\n",
       "    </tr>\n",
       "  </thead>\n",
       "  <tbody>\n",
       "    <tr>\n",
       "      <th>0</th>\n",
       "      <td>11</td>\n",
       "      <td>Aleya</td>\n",
       "      <td>46</td>\n",
       "      <td>Cairo</td>\n",
       "      <td>4218483</td>\n",
       "      <td>3000</td>\n",
       "      <td>Account</td>\n",
       "      <td>24/02/2003</td>\n",
       "    </tr>\n",
       "    <tr>\n",
       "      <th>1</th>\n",
       "      <td>9</td>\n",
       "      <td>Hassan</td>\n",
       "      <td>25</td>\n",
       "      <td>Cairo</td>\n",
       "      <td>3578283</td>\n",
       "      <td>2000</td>\n",
       "      <td>Sales</td>\n",
       "      <td>21/01/2006</td>\n",
       "    </tr>\n",
       "    <tr>\n",
       "      <th>2</th>\n",
       "      <td>15</td>\n",
       "      <td>Ramy</td>\n",
       "      <td>57</td>\n",
       "      <td>Alex</td>\n",
       "      <td>3674313</td>\n",
       "      <td>5000</td>\n",
       "      <td>Computer</td>\n",
       "      <td>21/03/2000</td>\n",
       "    </tr>\n",
       "    <tr>\n",
       "      <th>3</th>\n",
       "      <td>18</td>\n",
       "      <td>Ola</td>\n",
       "      <td>28</td>\n",
       "      <td>Milan</td>\n",
       "      <td>4186473</td>\n",
       "      <td>5000</td>\n",
       "      <td>Sales</td>\n",
       "      <td>04/02/2007</td>\n",
       "    </tr>\n",
       "    <tr>\n",
       "      <th>4</th>\n",
       "      <td>22</td>\n",
       "      <td>Zeiad</td>\n",
       "      <td>29</td>\n",
       "      <td>Milan</td>\n",
       "      <td>3642303</td>\n",
       "      <td>2000</td>\n",
       "      <td>Sales</td>\n",
       "      <td>01/03/1998</td>\n",
       "    </tr>\n",
       "  </tbody>\n",
       "</table>\n",
       "</div>"
      ],
      "text/plain": [
       "   E_id   Name   Age Address  Telephone  Salary Department   Hire Date\n",
       "0    11   Aleya   46   Cairo    4218483    3000    Account  24/02/2003\n",
       "1     9  Hassan   25   Cairo    3578283    2000      Sales  21/01/2006\n",
       "2    15    Ramy   57    Alex    3674313    5000   Computer  21/03/2000\n",
       "3    18     Ola   28   Milan    4186473    5000      Sales  04/02/2007\n",
       "4    22   Zeiad   29   Milan    3642303    2000      Sales  01/03/1998"
      ]
     },
     "execution_count": 3,
     "metadata": {},
     "output_type": "execute_result"
    }
   ],
   "source": [
    "Hr_records.head()"
   ]
  },
  {
   "cell_type": "code",
   "execution_count": 4,
   "id": "c493dbc9-ee0a-41b8-aa0a-4fd0c58b1888",
   "metadata": {},
   "outputs": [
    {
     "name": "stdout",
     "output_type": "stream",
     "text": [
      "<class 'pandas.core.frame.DataFrame'>\n",
      "RangeIndex: 24 entries, 0 to 23\n",
      "Data columns (total 8 columns):\n",
      " #   Column      Non-Null Count  Dtype \n",
      "---  ------      --------------  ----- \n",
      " 0   E_id        24 non-null     int64 \n",
      " 1   Name        24 non-null     object\n",
      " 2   Age         24 non-null     int64 \n",
      " 3   Address     24 non-null     object\n",
      " 4   Telephone   24 non-null     int64 \n",
      " 5   Salary      24 non-null     int64 \n",
      " 6   Department  24 non-null     object\n",
      " 7   Hire Date   24 non-null     object\n",
      "dtypes: int64(4), object(4)\n",
      "memory usage: 1.6+ KB\n"
     ]
    }
   ],
   "source": [
    "Hr_records.info()"
   ]
  },
  {
   "cell_type": "code",
   "execution_count": 6,
   "id": "5bc4606f-c5e4-4a00-9a22-696f8b574946",
   "metadata": {},
   "outputs": [
    {
     "data": {
      "text/plain": [
       "E_id           int64\n",
       "Name          object\n",
       "Age            int64\n",
       "Address       object\n",
       "Telephone      int64\n",
       "Salary         int64\n",
       "Department    object\n",
       "Hire Date     object\n",
       "dtype: object"
      ]
     },
     "execution_count": 6,
     "metadata": {},
     "output_type": "execute_result"
    }
   ],
   "source": [
    "Hr_records.dtypes"
   ]
  },
  {
   "cell_type": "code",
   "execution_count": 7,
   "id": "49329626-efdc-4349-9a9c-874a524ec052",
   "metadata": {},
   "outputs": [
    {
     "data": {
      "text/plain": [
       "E_id          0\n",
       "Name          0\n",
       "Age           0\n",
       "Address       0\n",
       "Telephone     0\n",
       "Salary        0\n",
       "Department    0\n",
       "Hire Date     0\n",
       "dtype: int64"
      ]
     },
     "execution_count": 7,
     "metadata": {},
     "output_type": "execute_result"
    }
   ],
   "source": [
    "#Total isnull data\n",
    "Hr_records.isnull().sum()"
   ]
  },
  {
   "cell_type": "code",
   "execution_count": 8,
   "id": "ec713403-d764-4945-9488-7988830fed75",
   "metadata": {},
   "outputs": [
    {
     "data": {
      "text/plain": [
       "0"
      ]
     },
     "execution_count": 8,
     "metadata": {},
     "output_type": "execute_result"
    }
   ],
   "source": [
    "#looking for duplicated data\n",
    "Hr_records.duplicated().sum()"
   ]
  },
  {
   "cell_type": "markdown",
   "id": "fd948578-2e32-4d68-94d9-844d1cf3e0f9",
   "metadata": {},
   "source": [
    "# 1.FIND THE NUMBER OF EMPLOYEES IN EACH ADDRESS"
   ]
  },
  {
   "cell_type": "code",
   "execution_count": 47,
   "id": "056ad550-2137-47e6-9f84-b236685d165b",
   "metadata": {},
   "outputs": [
    {
     "data": {
      "text/plain": [
       "Address\n",
       "Cairo         8\n",
       "Alex          6\n",
       "Giza          5\n",
       "Milan         2\n",
       "Alexandria    1\n",
       "Alixandria    1\n",
       "milan         1\n",
       "Name: count, dtype: int64"
      ]
     },
     "execution_count": 47,
     "metadata": {},
     "output_type": "execute_result"
    }
   ],
   "source": [
    "Hr_records[\"Address\"].value_counts()"
   ]
  },
  {
   "cell_type": "markdown",
   "id": "c6f11458-14d2-4717-9491-31d73a4c61c1",
   "metadata": {},
   "source": [
    "# 2.FIND THE NUMBER OF EMPLOYEES IN EACH DEPARTMENT "
   ]
  },
  {
   "cell_type": "code",
   "execution_count": 65,
   "id": "78145877-b847-4b56-9579-278c15beff0c",
   "metadata": {},
   "outputs": [
    {
     "data": {
      "text/plain": [
       "Department\n",
       "Sales       9\n",
       "Computer    8\n",
       "Account     7\n",
       "Name: count, dtype: int64"
      ]
     },
     "execution_count": 65,
     "metadata": {},
     "output_type": "execute_result"
    }
   ],
   "source": [
    "Hr_records[\"Department\"].value_counts()"
   ]
  },
  {
   "cell_type": "markdown",
   "id": "d09573fa-ed56-4c46-879f-b3197e8b1e4d",
   "metadata": {},
   "source": [
    "# 3.AVERAGE AGE OF EMPLOYEE IN EACH DEPARTMENT"
   ]
  },
  {
   "cell_type": "code",
   "execution_count": 49,
   "id": "b742165a-f6c0-43bc-a880-da671aa46d67",
   "metadata": {},
   "outputs": [
    {
     "data": {
      "text/plain": [
       "Department\n",
       "Account     46.142857\n",
       "Computer    41.625000\n",
       "Sales       33.222222\n",
       "Name: Age, dtype: float64"
      ]
     },
     "execution_count": 49,
     "metadata": {},
     "output_type": "execute_result"
    }
   ],
   "source": [
    "Hr_records.groupby(\"Department\")[\"Age\"].mean()"
   ]
  },
  {
   "cell_type": "markdown",
   "id": "5e58a561-bcb7-484f-ab00-1f51a71afa63",
   "metadata": {},
   "source": [
    "# 4.AVERAGE SALARY OF EMPLOYEE IN EACH DEPARTMENT"
   ]
  },
  {
   "cell_type": "code",
   "execution_count": 8,
   "id": "2fdb591a-5e3f-4f59-8361-fafe7e580712",
   "metadata": {},
   "outputs": [
    {
     "data": {
      "text/plain": [
       "Department\n",
       "Account     2143.0\n",
       "Computer    4375.0\n",
       "Sales       2778.0\n",
       "Name: Salary, dtype: float64"
      ]
     },
     "execution_count": 8,
     "metadata": {},
     "output_type": "execute_result"
    }
   ],
   "source": [
    "Hr_records.groupby(\"Department\")[\"Salary\"].mean().round()"
   ]
  },
  {
   "cell_type": "markdown",
   "id": "4794ffa9-7ba9-4222-a7d8-8cc3d87bbcc7",
   "metadata": {},
   "source": [
    "# 5.RETRIEVING THE DATA OF EMPLOYEE WHO WORK IN THE COMPUTER DEPARTMENT  ONLY , AS WELL AS THE OTHER EMPLOYEE IN OTHER DEPARTMENT."
   ]
  },
  {
   "cell_type": "code",
   "execution_count": 12,
   "id": "30b8357c-803f-4a9c-9797-ccf962ac544e",
   "metadata": {},
   "outputs": [
    {
     "data": {
      "text/html": [
       "<div>\n",
       "<style scoped>\n",
       "    .dataframe tbody tr th:only-of-type {\n",
       "        vertical-align: middle;\n",
       "    }\n",
       "\n",
       "    .dataframe tbody tr th {\n",
       "        vertical-align: top;\n",
       "    }\n",
       "\n",
       "    .dataframe thead th {\n",
       "        text-align: right;\n",
       "    }\n",
       "</style>\n",
       "<table border=\"1\" class=\"dataframe\">\n",
       "  <thead>\n",
       "    <tr style=\"text-align: right;\">\n",
       "      <th></th>\n",
       "      <th>E_id</th>\n",
       "      <th>Name</th>\n",
       "      <th>Age</th>\n",
       "      <th>Address</th>\n",
       "      <th>Telephone</th>\n",
       "      <th>Salary</th>\n",
       "      <th>Department</th>\n",
       "      <th>Hire Date</th>\n",
       "    </tr>\n",
       "  </thead>\n",
       "  <tbody>\n",
       "    <tr>\n",
       "      <th>2</th>\n",
       "      <td>15</td>\n",
       "      <td>Ramy</td>\n",
       "      <td>57</td>\n",
       "      <td>Alex</td>\n",
       "      <td>3674313</td>\n",
       "      <td>5000</td>\n",
       "      <td>Computer</td>\n",
       "      <td>21/03/2000</td>\n",
       "    </tr>\n",
       "    <tr>\n",
       "      <th>5</th>\n",
       "      <td>12</td>\n",
       "      <td>Salwa</td>\n",
       "      <td>34</td>\n",
       "      <td>Alexandria</td>\n",
       "      <td>4090443</td>\n",
       "      <td>4000</td>\n",
       "      <td>Computer</td>\n",
       "      <td>06/12/2005</td>\n",
       "    </tr>\n",
       "    <tr>\n",
       "      <th>8</th>\n",
       "      <td>27</td>\n",
       "      <td>Yousef</td>\n",
       "      <td>46</td>\n",
       "      <td>Alixandria</td>\n",
       "      <td>3706323</td>\n",
       "      <td>7000</td>\n",
       "      <td>Computer</td>\n",
       "      <td>10/04/2003</td>\n",
       "    </tr>\n",
       "    <tr>\n",
       "      <th>16</th>\n",
       "      <td>58</td>\n",
       "      <td>Neveen</td>\n",
       "      <td>43</td>\n",
       "      <td>Alex</td>\n",
       "      <td>3834363</td>\n",
       "      <td>4000</td>\n",
       "      <td>Computer</td>\n",
       "      <td>29/06/2003</td>\n",
       "    </tr>\n",
       "    <tr>\n",
       "      <th>19</th>\n",
       "      <td>61</td>\n",
       "      <td>Yasser</td>\n",
       "      <td>37</td>\n",
       "      <td>Cairo</td>\n",
       "      <td>3962403</td>\n",
       "      <td>3000</td>\n",
       "      <td>Computer</td>\n",
       "      <td>17/09/2006</td>\n",
       "    </tr>\n",
       "    <tr>\n",
       "      <th>21</th>\n",
       "      <td>79</td>\n",
       "      <td>Maged</td>\n",
       "      <td>33</td>\n",
       "      <td>Cairo</td>\n",
       "      <td>3930393</td>\n",
       "      <td>6000</td>\n",
       "      <td>Computer</td>\n",
       "      <td>28/08/1998</td>\n",
       "    </tr>\n",
       "    <tr>\n",
       "      <th>22</th>\n",
       "      <td>90</td>\n",
       "      <td>Ahmed</td>\n",
       "      <td>28</td>\n",
       "      <td>Cairo</td>\n",
       "      <td>4250493</td>\n",
       "      <td>4000</td>\n",
       "      <td>Computer</td>\n",
       "      <td>16/03/1990</td>\n",
       "    </tr>\n",
       "    <tr>\n",
       "      <th>23</th>\n",
       "      <td>94</td>\n",
       "      <td>Dina</td>\n",
       "      <td>55</td>\n",
       "      <td>Cairo</td>\n",
       "      <td>4282503</td>\n",
       "      <td>2000</td>\n",
       "      <td>Computer</td>\n",
       "      <td>05/04/1999</td>\n",
       "    </tr>\n",
       "  </tbody>\n",
       "</table>\n",
       "</div>"
      ],
      "text/plain": [
       "    E_id   Name   Age     Address  Telephone  Salary Department   Hire Date\n",
       "2     15    Ramy   57        Alex    3674313    5000   Computer  21/03/2000\n",
       "5     12   Salwa   34  Alexandria    4090443    4000   Computer  06/12/2005\n",
       "8     27  Yousef   46  Alixandria    3706323    7000   Computer  10/04/2003\n",
       "16    58  Neveen   43        Alex    3834363    4000   Computer  29/06/2003\n",
       "19    61  Yasser   37       Cairo    3962403    3000   Computer  17/09/2006\n",
       "21    79   Maged   33       Cairo    3930393    6000   Computer  28/08/1998\n",
       "22    90   Ahmed   28       Cairo    4250493    4000   Computer  16/03/1990\n",
       "23    94    Dina   55       Cairo    4282503    2000   Computer  05/04/1999"
      ]
     },
     "execution_count": 12,
     "metadata": {},
     "output_type": "execute_result"
    }
   ],
   "source": [
    "Hr_records[Hr_records[\"Department\"]== \"Computer\"]"
   ]
  },
  {
   "cell_type": "code",
   "execution_count": 48,
   "id": "3007ddb3-5ebe-4f6c-9889-6387b62fd3f4",
   "metadata": {},
   "outputs": [
    {
     "data": {
      "text/html": [
       "<div>\n",
       "<style scoped>\n",
       "    .dataframe tbody tr th:only-of-type {\n",
       "        vertical-align: middle;\n",
       "    }\n",
       "\n",
       "    .dataframe tbody tr th {\n",
       "        vertical-align: top;\n",
       "    }\n",
       "\n",
       "    .dataframe thead th {\n",
       "        text-align: right;\n",
       "    }\n",
       "</style>\n",
       "<table border=\"1\" class=\"dataframe\">\n",
       "  <thead>\n",
       "    <tr style=\"text-align: right;\">\n",
       "      <th></th>\n",
       "      <th>E_id</th>\n",
       "      <th>Name</th>\n",
       "      <th>Age</th>\n",
       "      <th>Address</th>\n",
       "      <th>Telephone</th>\n",
       "      <th>Salary</th>\n",
       "      <th>Department</th>\n",
       "      <th>Hire Date</th>\n",
       "    </tr>\n",
       "  </thead>\n",
       "  <tbody>\n",
       "    <tr>\n",
       "      <th>1</th>\n",
       "      <td>9</td>\n",
       "      <td>Hassan</td>\n",
       "      <td>25</td>\n",
       "      <td>Cairo</td>\n",
       "      <td>3578283</td>\n",
       "      <td>2000</td>\n",
       "      <td>Sales</td>\n",
       "      <td>21/01/2006</td>\n",
       "    </tr>\n",
       "    <tr>\n",
       "      <th>3</th>\n",
       "      <td>18</td>\n",
       "      <td>Ola</td>\n",
       "      <td>28</td>\n",
       "      <td>Milan</td>\n",
       "      <td>4186473</td>\n",
       "      <td>5000</td>\n",
       "      <td>Sales</td>\n",
       "      <td>04/02/2007</td>\n",
       "    </tr>\n",
       "    <tr>\n",
       "      <th>4</th>\n",
       "      <td>22</td>\n",
       "      <td>Zeiad</td>\n",
       "      <td>29</td>\n",
       "      <td>Milan</td>\n",
       "      <td>3642303</td>\n",
       "      <td>2000</td>\n",
       "      <td>Sales</td>\n",
       "      <td>01/03/1998</td>\n",
       "    </tr>\n",
       "    <tr>\n",
       "      <th>6</th>\n",
       "      <td>24</td>\n",
       "      <td>Ali</td>\n",
       "      <td>24</td>\n",
       "      <td>Giza</td>\n",
       "      <td>4154463</td>\n",
       "      <td>1000</td>\n",
       "      <td>Sales</td>\n",
       "      <td>15/01/1991</td>\n",
       "    </tr>\n",
       "    <tr>\n",
       "      <th>7</th>\n",
       "      <td>25</td>\n",
       "      <td>Tahany</td>\n",
       "      <td>39</td>\n",
       "      <td>Alex</td>\n",
       "      <td>3546273</td>\n",
       "      <td>3000</td>\n",
       "      <td>Sales</td>\n",
       "      <td>01/01/2000</td>\n",
       "    </tr>\n",
       "    <tr>\n",
       "      <th>10</th>\n",
       "      <td>35</td>\n",
       "      <td>Mahmoud</td>\n",
       "      <td>57</td>\n",
       "      <td>Giza</td>\n",
       "      <td>3610293</td>\n",
       "      <td>4000</td>\n",
       "      <td>Sales</td>\n",
       "      <td>10/02/1999</td>\n",
       "    </tr>\n",
       "    <tr>\n",
       "      <th>12</th>\n",
       "      <td>48</td>\n",
       "      <td>Wagdy</td>\n",
       "      <td>24</td>\n",
       "      <td>Cairo</td>\n",
       "      <td>4058433</td>\n",
       "      <td>5000</td>\n",
       "      <td>Sales</td>\n",
       "      <td>16/11/2007</td>\n",
       "    </tr>\n",
       "    <tr>\n",
       "      <th>14</th>\n",
       "      <td>55</td>\n",
       "      <td>Samah</td>\n",
       "      <td>38</td>\n",
       "      <td>milan</td>\n",
       "      <td>4026423</td>\n",
       "      <td>1000</td>\n",
       "      <td>Sales</td>\n",
       "      <td>27/10/2001</td>\n",
       "    </tr>\n",
       "    <tr>\n",
       "      <th>15</th>\n",
       "      <td>57</td>\n",
       "      <td>Rawan</td>\n",
       "      <td>35</td>\n",
       "      <td>Alex</td>\n",
       "      <td>3994413</td>\n",
       "      <td>2000</td>\n",
       "      <td>Sales</td>\n",
       "      <td>07/10/2002</td>\n",
       "    </tr>\n",
       "  </tbody>\n",
       "</table>\n",
       "</div>"
      ],
      "text/plain": [
       "    E_id    Name   Age Address  Telephone  Salary Department   Hire Date\n",
       "1      9   Hassan   25   Cairo    3578283    2000      Sales  21/01/2006\n",
       "3     18      Ola   28   Milan    4186473    5000      Sales  04/02/2007\n",
       "4     22    Zeiad   29   Milan    3642303    2000      Sales  01/03/1998\n",
       "6     24      Ali   24    Giza    4154463    1000      Sales  15/01/1991\n",
       "7     25   Tahany   39    Alex    3546273    3000      Sales  01/01/2000\n",
       "10    35  Mahmoud   57    Giza    3610293    4000      Sales  10/02/1999\n",
       "12    48    Wagdy   24   Cairo    4058433    5000      Sales  16/11/2007\n",
       "14    55    Samah   38   milan    4026423    1000      Sales  27/10/2001\n",
       "15    57    Rawan   35    Alex    3994413    2000      Sales  07/10/2002"
      ]
     },
     "execution_count": 48,
     "metadata": {},
     "output_type": "execute_result"
    }
   ],
   "source": [
    "Hr_records[Hr_records[\"Department\"]==\"Sales\"]"
   ]
  },
  {
   "cell_type": "code",
   "execution_count": 14,
   "id": "216f2586-4c0c-46fe-ac0c-1fdb8bdbcd94",
   "metadata": {},
   "outputs": [
    {
     "data": {
      "text/html": [
       "<div>\n",
       "<style scoped>\n",
       "    .dataframe tbody tr th:only-of-type {\n",
       "        vertical-align: middle;\n",
       "    }\n",
       "\n",
       "    .dataframe tbody tr th {\n",
       "        vertical-align: top;\n",
       "    }\n",
       "\n",
       "    .dataframe thead th {\n",
       "        text-align: right;\n",
       "    }\n",
       "</style>\n",
       "<table border=\"1\" class=\"dataframe\">\n",
       "  <thead>\n",
       "    <tr style=\"text-align: right;\">\n",
       "      <th></th>\n",
       "      <th>E_id</th>\n",
       "      <th>Name</th>\n",
       "      <th>Age</th>\n",
       "      <th>Address</th>\n",
       "      <th>Telephone</th>\n",
       "      <th>Salary</th>\n",
       "      <th>Department</th>\n",
       "      <th>Hire Date</th>\n",
       "    </tr>\n",
       "  </thead>\n",
       "  <tbody>\n",
       "    <tr>\n",
       "      <th>0</th>\n",
       "      <td>11</td>\n",
       "      <td>Aleya</td>\n",
       "      <td>46</td>\n",
       "      <td>Cairo</td>\n",
       "      <td>4218483</td>\n",
       "      <td>3000</td>\n",
       "      <td>Account</td>\n",
       "      <td>24/02/2003</td>\n",
       "    </tr>\n",
       "    <tr>\n",
       "      <th>9</th>\n",
       "      <td>29</td>\n",
       "      <td>Khaled</td>\n",
       "      <td>29</td>\n",
       "      <td>Alex</td>\n",
       "      <td>3770343</td>\n",
       "      <td>3000</td>\n",
       "      <td>Account</td>\n",
       "      <td>20/05/2001</td>\n",
       "    </tr>\n",
       "    <tr>\n",
       "      <th>11</th>\n",
       "      <td>47</td>\n",
       "      <td>Talaat</td>\n",
       "      <td>48</td>\n",
       "      <td>Giza</td>\n",
       "      <td>3866373</td>\n",
       "      <td>3000</td>\n",
       "      <td>Account</td>\n",
       "      <td>19/07/2001</td>\n",
       "    </tr>\n",
       "    <tr>\n",
       "      <th>13</th>\n",
       "      <td>54</td>\n",
       "      <td>Samy</td>\n",
       "      <td>55</td>\n",
       "      <td>Giza</td>\n",
       "      <td>3738333</td>\n",
       "      <td>1000</td>\n",
       "      <td>Account</td>\n",
       "      <td>30/04/2004</td>\n",
       "    </tr>\n",
       "    <tr>\n",
       "      <th>17</th>\n",
       "      <td>62</td>\n",
       "      <td>Amr</td>\n",
       "      <td>44</td>\n",
       "      <td>Cairo</td>\n",
       "      <td>4122453</td>\n",
       "      <td>2000</td>\n",
       "      <td>Account</td>\n",
       "      <td>26/12/1995</td>\n",
       "    </tr>\n",
       "    <tr>\n",
       "      <th>18</th>\n",
       "      <td>65</td>\n",
       "      <td>Hala</td>\n",
       "      <td>53</td>\n",
       "      <td>Alex</td>\n",
       "      <td>3802353</td>\n",
       "      <td>2000</td>\n",
       "      <td>Account</td>\n",
       "      <td>09/06/1990</td>\n",
       "    </tr>\n",
       "    <tr>\n",
       "      <th>20</th>\n",
       "      <td>71</td>\n",
       "      <td>Radwa</td>\n",
       "      <td>48</td>\n",
       "      <td>Giza</td>\n",
       "      <td>3898383</td>\n",
       "      <td>1000</td>\n",
       "      <td>Account</td>\n",
       "      <td>08/08/2005</td>\n",
       "    </tr>\n",
       "  </tbody>\n",
       "</table>\n",
       "</div>"
      ],
      "text/plain": [
       "    E_id   Name   Age Address  Telephone  Salary Department   Hire Date\n",
       "0     11   Aleya   46   Cairo    4218483    3000    Account  24/02/2003\n",
       "9     29  Khaled   29    Alex    3770343    3000    Account  20/05/2001\n",
       "11    47  Talaat   48    Giza    3866373    3000    Account  19/07/2001\n",
       "13    54    Samy   55    Giza    3738333    1000    Account  30/04/2004\n",
       "17    62     Amr   44   Cairo    4122453    2000    Account  26/12/1995\n",
       "18    65    Hala   53    Alex    3802353    2000    Account  09/06/1990\n",
       "20    71   Radwa   48    Giza    3898383    1000    Account  08/08/2005"
      ]
     },
     "execution_count": 14,
     "metadata": {},
     "output_type": "execute_result"
    }
   ],
   "source": [
    "Hr_records[Hr_records[\"Department\"]==\"Account\"]"
   ]
  },
  {
   "cell_type": "markdown",
   "id": "3c95605a-b721-442d-89ea-d0275c7855c4",
   "metadata": {},
   "source": [
    "# 6. FIND THE NUMBER OF EMPLOYEE IN EACH DEPARTMENT WHO WORK IN CAIRO ADDRESS ONLY"
   ]
  },
  {
   "cell_type": "code",
   "execution_count": 15,
   "id": "c3cb6f8c-4e89-4ac9-a0f9-7e6b9994ee80",
   "metadata": {},
   "outputs": [
    {
     "data": {
      "text/plain": [
       "Department\n",
       "Computer    4\n",
       "Account     2\n",
       "Sales       2\n",
       "Name: count, dtype: int64"
      ]
     },
     "execution_count": 15,
     "metadata": {},
     "output_type": "execute_result"
    }
   ],
   "source": [
    "Hr_records[Hr_records[\"Address\"]==\"Cairo\"][\"Department\"].value_counts()"
   ]
  },
  {
   "cell_type": "markdown",
   "id": "87d42423-80f2-41c3-bca7-a8c6b84e220d",
   "metadata": {},
   "source": [
    "# 7.FIND EMPOYEES WHO WORK IN ALEX  IN THE COMPUTER DEPARTMENT"
   ]
  },
  {
   "cell_type": "code",
   "execution_count": 19,
   "id": "4555f528-1b33-4a77-8e97-ce1b8c4a5165",
   "metadata": {},
   "outputs": [
    {
     "data": {
      "text/plain": [
       "2      True\n",
       "5     False\n",
       "8     False\n",
       "16     True\n",
       "19    False\n",
       "21    False\n",
       "22    False\n",
       "23    False\n",
       "Name: Address, dtype: bool"
      ]
     },
     "execution_count": 19,
     "metadata": {},
     "output_type": "execute_result"
    }
   ],
   "source": [
    "Hr_records[Hr_records[\"Department\"]==\"Computer\"][\"Address\"]==\"Alex\""
   ]
  },
  {
   "cell_type": "markdown",
   "id": "a48dc1b4-e4fa-46fb-8c57-193b57c6bc79",
   "metadata": {},
   "source": [
    "# 8.SEARCH FOR THE EMPOYEE WHO RECEIVE THE HIGHEST SALARY AND RETRIEVE HIS COMPLETE DATA"
   ]
  },
  {
   "cell_type": "code",
   "execution_count": 17,
   "id": "eb27ee1a-9f41-4140-8a01-38b0009dfda4",
   "metadata": {},
   "outputs": [
    {
     "data": {
      "text/plain": [
       "E_id                  94\n",
       "Name               Zeiad\n",
       "Age                   57\n",
       "Address            milan\n",
       "Telephone        4282503\n",
       "Salary              7000\n",
       "Department         Sales\n",
       "Hire Date     30/04/2004\n",
       "dtype: object"
      ]
     },
     "execution_count": 17,
     "metadata": {},
     "output_type": "execute_result"
    }
   ],
   "source": [
    "Hr_records[Hr_records[\"Salary\"]==Hr_records[\"Salary\"]].max()\n"
   ]
  },
  {
   "cell_type": "markdown",
   "id": "4f5e96bf-f236-488b-b0e3-e440523d7f3a",
   "metadata": {},
   "source": [
    "# 9.SEARCH FOR THE EMPLOYEE WHO RECEIVED THE LEAST SALARY AND RETRIEVE HIS DATA"
   ]
  },
  {
   "cell_type": "code",
   "execution_count": 18,
   "id": "cc8a0283-c189-493e-91fc-5332b577712f",
   "metadata": {},
   "outputs": [
    {
     "data": {
      "text/plain": [
       "E_id                   9\n",
       "Name               Ahmed\n",
       "Age                   24\n",
       "Address             Alex\n",
       "Telephone        3546273\n",
       "Salary              1000\n",
       "Department       Account\n",
       "Hire Date     01/01/2000\n",
       "dtype: object"
      ]
     },
     "execution_count": 18,
     "metadata": {},
     "output_type": "execute_result"
    }
   ],
   "source": [
    "Hr_records[Hr_records[\"Salary\"]==Hr_records[\"Salary\"]].min()"
   ]
  },
  {
   "cell_type": "markdown",
   "id": "3bbd7606-1b78-4476-9af6-d180f7ee6a25",
   "metadata": {},
   "source": [
    "# 10.NUMBER OF EMPLOYEE BY DEPARTMENT IN EACH ADDRESS"
   ]
  },
  {
   "cell_type": "code",
   "execution_count": 36,
   "id": "1fd24c9b-1aba-4493-bf7c-b09efdbe6c76",
   "metadata": {},
   "outputs": [
    {
     "data": {
      "text/plain": [
       "Address     Department\n",
       "Alex        Account       2\n",
       "            Computer      2\n",
       "            Sales         2\n",
       "Alexandria  Computer      1\n",
       "Alixandria  Computer      1\n",
       "Cairo       Computer      4\n",
       "            Account       2\n",
       "            Sales         2\n",
       "Giza        Account       3\n",
       "            Sales         2\n",
       "Milan       Sales         2\n",
       "milan       Sales         1\n",
       "Name: count, dtype: int64"
      ]
     },
     "execution_count": 36,
     "metadata": {},
     "output_type": "execute_result"
    }
   ],
   "source": [
    "Hr_records.groupby(\"Address\")[\"Department\"].value_counts()"
   ]
  },
  {
   "cell_type": "code",
   "execution_count": 83,
   "id": "701927f2-1759-49db-ae88-c3810e3f1594",
   "metadata": {},
   "outputs": [
    {
     "data": {
      "text/plain": [
       "<Axes: xlabel='Age'>"
      ]
     },
     "execution_count": 83,
     "metadata": {},
     "output_type": "execute_result"
    },
    {
     "data": {
      "image/png": "[encoded data removed]",
      "text/plain": [
       "<Figure size 640x480 with 1 Axes>"
      ]
     },
     "metadata": {},
     "output_type": "display_data"
    }
   ],
   "source": [
    "#boxplot maen of age\n",
    "sns.boxplot(x = Hr_records[\"Age\"],palette = \"YlGn\")"
   ]
  },
  {
   "cell_type": "code",
   "execution_count": 84,
   "id": "5711e181-8235-4e1c-b34d-f3a482423900",
   "metadata": {},
   "outputs": [
    {
     "data": {
      "image/png": "[encoded data removed]",
      "text/plain": [
       "<Figure size 640x480 with 1 Axes>"
      ]
     },
     "metadata": {},
     "output_type": "display_data"
    }
   ],
   "source": [
    "xa =  sns.countplot(x = Hr_records[\"Department\"],palette = \"PuBu\")\n",
    "for bar in xa.containers:\n",
    "    xa.bar_label(bar)"
   ]
  },
  {
   "cell_type": "code",
   "execution_count": 85,
   "id": "71b2a203-3c43-42e2-ae0c-9a29aa715aaf",
   "metadata": {},
   "outputs": [
    {
     "data": {
      "image/png": "[encoded data removed]",
      "text/plain": [
       "<Figure size 640x480 with 1 Axes>"
      ]
     },
     "metadata": {},
     "output_type": "display_data"
    }
   ],
   "source": [
    "xa = sns.countplot(x = Hr_records[\"Address\"],palette = \"Set1\")\n",
    "for bar in xa.containers:\n",
    "    xa.bar_label(bar)"
   ]
  },
  {
   "cell_type": "code",
   "execution_count": 86,
   "id": "dbc09324-515d-4033-8312-efe7e6024b02",
   "metadata": {},
   "outputs": [
    {
     "data": {
      "text/plain": [
       "<Axes: xlabel='Department', ylabel='count'>"
      ]
     },
     "execution_count": 86,
     "metadata": {},
     "output_type": "execute_result"
    },
    {
     "data": {
      "image/png": "[encoded data removed]",
      "text/plain": [
       "<Figure size 1000x500 with 1 Axes>"
      ]
     },
     "metadata": {},
     "output_type": "display_data"
    }
   ],
   "source": [
    "plt.figure(figsize=(10,5))\n",
    "sns.countplot(x = \"Department\",hue = \"Address\",data = Hr_records,palette = \"hsv\")"
   ]
  },
  {
   "cell_type": "code",
   "execution_count": 87,
   "id": "2767b7dc-adf2-4586-991f-0d215882feb4",
   "metadata": {},
   "outputs": [
    {
     "data": {
      "text/plain": [
       "<Axes: xlabel='Address', ylabel='Age'>"
      ]
     },
     "execution_count": 87,
     "metadata": {},
     "output_type": "execute_result"
    },
    {
     "data": {
      "image/png": "[encoded data removed]",
      "text/plain": [
       "<Figure size 800x500 with 1 Axes>"
      ]
     },
     "metadata": {},
     "output_type": "display_data"
    }
   ],
   "source": [
    "#age with department\n",
    "#Comparing ages with salaries in different governorates\n",
    "plt.figure(figsize =(8,5))\n",
    "sns.boxplot(x = Hr_records[\"Address\"],hue = Hr_records[\"Department\"],y = Hr_records[\"Age\"],palette = \"Set1\")"
   ]
  },
  {
   "cell_type": "code",
   "execution_count": 88,
   "id": "bae8bc89-9214-41a4-b37a-fc33aa152952",
   "metadata": {},
   "outputs": [
    {
     "data": {
      "text/plain": [
       "<seaborn.axisgrid.JointGrid at 0x24667e43a10>"
      ]
     },
     "execution_count": 88,
     "metadata": {},
     "output_type": "execute_result"
    },
    {
     "data": {
      "image/png": "[encoded data removed]",
      "text/plain": [
       "<Figure size 600x600 with 3 Axes>"
      ]
     },
     "metadata": {},
     "output_type": "display_data"
    }
   ],
   "source": [
    "#comparison of age with salaries in different departments\n",
    "sns.jointplot(x = \"Salary\",y = \"Age\",hue = \"Department\",data = Hr_records)"
   ]
  },
  {
   "cell_type": "code",
   "execution_count": 89,
   "id": "fca3a83b-6de5-4523-a60d-436532cc25c4",
   "metadata": {},
   "outputs": [
    {
     "data": {
      "text/plain": [
       "<seaborn.axisgrid.JointGrid at 0x24668a90210>"
      ]
     },
     "execution_count": 89,
     "metadata": {},
     "output_type": "execute_result"
    },
    {
     "data": {
      "image/png": "[encoded data removed]",
      "text/plain": [
       "<Figure size 600x600 with 3 Axes>"
      ]
     },
     "metadata": {},
     "output_type": "display_data"
    }
   ],
   "source": [
    "#comparison of age with slaries in different address\n",
    "sns.jointplot(x = \"Salary\",y = \"Age\",hue = \"Address\",data = Hr_records)"
   ]
  },
  {
   "cell_type": "code",
   "execution_count": null,
   "id": "0ff7fa89-e11b-4f2e-ad0a-0b8a4b97b4f0",
   "metadata": {},
   "outputs": [],
   "source": [
    "sns.boxplot()"
   ]
  }
 ],
 "metadata": {
  "kernelspec": {
   "display_name": "Python 3 (ipykernel)",
   "language": "python",
   "name": "python3"
  },
  "language_info": {
   "codemirror_mode": {
    "name": "ipython",
    "version": 3
   },
   "file_extension": ".py",
   "mimetype": "text/x-python",
   "name": "python",
   "nbconvert_exporter": "python",
   "pygments_lexer": "ipython3",
   "version": "3.11.5"
  }
 },
 "nbformat": 4,
 "nbformat_minor": 5
}
